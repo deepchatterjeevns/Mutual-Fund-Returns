{
 "cells": [
  {
   "cell_type": "code",
   "execution_count": 43,
   "metadata": {},
   "outputs": [],
   "source": [
    "# import the modules\n",
    "import pandas as pd\n",
    "import numpy as np\n",
    "import matplotlib.pyplot as plt\n",
    "import seaborn as sns\n",
    "from scipy.stats import chi2_contingency\n",
    "import scipy.stats as stats\n",
    "\n",
    "from sklearn.model_selection import train_test_split\n",
    "from sklearn.linear_model import LinearRegression,Ridge,Lasso\n",
    "from sklearn.metrics import r2_score,mean_squared_error,accuracy_score\n",
    "from sklearn.model_selection import GridSearchCV, RandomizedSearchCV\n",
    "\n",
    "\n",
    "\n",
    "#sns.set_theme(style=\"white\")\n",
    "%matplotlib inline"
   ]
  },
  {
   "cell_type": "markdown",
   "metadata": {},
   "source": [
    "### Load the dataset\n",
    "\n",
    "- Load the train data and using all your knowledge try to explore the different statistical properties of the dataset."
   ]
  },
  {
   "cell_type": "code",
   "execution_count": 2,
   "metadata": {},
   "outputs": [
    {
     "data": {
      "text/html": [
       "<div>\n",
       "<style scoped>\n",
       "    .dataframe tbody tr th:only-of-type {\n",
       "        vertical-align: middle;\n",
       "    }\n",
       "\n",
       "    .dataframe tbody tr th {\n",
       "        vertical-align: top;\n",
       "    }\n",
       "\n",
       "    .dataframe thead th {\n",
       "        text-align: right;\n",
       "    }\n",
       "</style>\n",
       "<table border=\"1\" class=\"dataframe\">\n",
       "  <thead>\n",
       "    <tr style=\"text-align: right;\">\n",
       "      <th></th>\n",
       "      <th>Id</th>\n",
       "      <th>Serial Number</th>\n",
       "      <th>total_net_assets</th>\n",
       "      <th>net_annual_expenses_ratio</th>\n",
       "      <th>morningstar_rating</th>\n",
       "      <th>portfolio_cash</th>\n",
       "      <th>portfolio_stocks</th>\n",
       "      <th>portfolio_bonds</th>\n",
       "      <th>portfolio_others</th>\n",
       "      <th>portfolio_preferred</th>\n",
       "      <th>...</th>\n",
       "      <th>category_102</th>\n",
       "      <th>category_103</th>\n",
       "      <th>category_104</th>\n",
       "      <th>category_105</th>\n",
       "      <th>category_106</th>\n",
       "      <th>category_107</th>\n",
       "      <th>investment_0</th>\n",
       "      <th>investment_1</th>\n",
       "      <th>investment_2</th>\n",
       "      <th>bonds_aaa</th>\n",
       "    </tr>\n",
       "  </thead>\n",
       "  <tbody>\n",
       "    <tr>\n",
       "      <th>0</th>\n",
       "      <td>3768</td>\n",
       "      <td>8372</td>\n",
       "      <td>211000</td>\n",
       "      <td>1.90</td>\n",
       "      <td>3</td>\n",
       "      <td>0.95</td>\n",
       "      <td>99.05</td>\n",
       "      <td>0.00</td>\n",
       "      <td>0.00</td>\n",
       "      <td>0.00</td>\n",
       "      <td>...</td>\n",
       "      <td>0.0</td>\n",
       "      <td>0.0</td>\n",
       "      <td>0.0</td>\n",
       "      <td>0.0</td>\n",
       "      <td>0.0</td>\n",
       "      <td>0.0</td>\n",
       "      <td>0.0</td>\n",
       "      <td>1.0</td>\n",
       "      <td>0.0</td>\n",
       "      <td>0.00</td>\n",
       "    </tr>\n",
       "    <tr>\n",
       "      <th>1</th>\n",
       "      <td>6244</td>\n",
       "      <td>5022</td>\n",
       "      <td>98930000</td>\n",
       "      <td>1.57</td>\n",
       "      <td>2</td>\n",
       "      <td>0.00</td>\n",
       "      <td>0.00</td>\n",
       "      <td>100.00</td>\n",
       "      <td>0.00</td>\n",
       "      <td>0.00</td>\n",
       "      <td>...</td>\n",
       "      <td>0.0</td>\n",
       "      <td>0.0</td>\n",
       "      <td>0.0</td>\n",
       "      <td>0.0</td>\n",
       "      <td>0.0</td>\n",
       "      <td>0.0</td>\n",
       "      <td>1.0</td>\n",
       "      <td>0.0</td>\n",
       "      <td>0.0</td>\n",
       "      <td>0.65</td>\n",
       "    </tr>\n",
       "    <tr>\n",
       "      <th>2</th>\n",
       "      <td>2230</td>\n",
       "      <td>3668</td>\n",
       "      <td>440000000</td>\n",
       "      <td>0.53</td>\n",
       "      <td>4</td>\n",
       "      <td>1.71</td>\n",
       "      <td>0.00</td>\n",
       "      <td>98.29</td>\n",
       "      <td>0.00</td>\n",
       "      <td>0.00</td>\n",
       "      <td>...</td>\n",
       "      <td>0.0</td>\n",
       "      <td>0.0</td>\n",
       "      <td>0.0</td>\n",
       "      <td>0.0</td>\n",
       "      <td>0.0</td>\n",
       "      <td>0.0</td>\n",
       "      <td>1.0</td>\n",
       "      <td>0.0</td>\n",
       "      <td>0.0</td>\n",
       "      <td>93.20</td>\n",
       "    </tr>\n",
       "    <tr>\n",
       "      <th>3</th>\n",
       "      <td>7518</td>\n",
       "      <td>8745</td>\n",
       "      <td>56050000</td>\n",
       "      <td>0.93</td>\n",
       "      <td>3</td>\n",
       "      <td>2.64</td>\n",
       "      <td>31.29</td>\n",
       "      <td>57.06</td>\n",
       "      <td>0.80</td>\n",
       "      <td>7.62</td>\n",
       "      <td>...</td>\n",
       "      <td>0.0</td>\n",
       "      <td>0.0</td>\n",
       "      <td>0.0</td>\n",
       "      <td>0.0</td>\n",
       "      <td>0.0</td>\n",
       "      <td>0.0</td>\n",
       "      <td>1.0</td>\n",
       "      <td>0.0</td>\n",
       "      <td>0.0</td>\n",
       "      <td>2.64</td>\n",
       "    </tr>\n",
       "    <tr>\n",
       "      <th>4</th>\n",
       "      <td>8037</td>\n",
       "      <td>17449</td>\n",
       "      <td>173040000</td>\n",
       "      <td>2.26</td>\n",
       "      <td>2</td>\n",
       "      <td>5.24</td>\n",
       "      <td>94.75</td>\n",
       "      <td>0.00</td>\n",
       "      <td>0.01</td>\n",
       "      <td>0.00</td>\n",
       "      <td>...</td>\n",
       "      <td>0.0</td>\n",
       "      <td>0.0</td>\n",
       "      <td>0.0</td>\n",
       "      <td>0.0</td>\n",
       "      <td>0.0</td>\n",
       "      <td>0.0</td>\n",
       "      <td>1.0</td>\n",
       "      <td>0.0</td>\n",
       "      <td>0.0</td>\n",
       "      <td>0.00</td>\n",
       "    </tr>\n",
       "  </tbody>\n",
       "</table>\n",
       "<p>5 rows × 154 columns</p>\n",
       "</div>"
      ],
      "text/plain": [
       "     Id  Serial Number  total_net_assets  net_annual_expenses_ratio  \\\n",
       "0  3768           8372            211000                       1.90   \n",
       "1  6244           5022          98930000                       1.57   \n",
       "2  2230           3668         440000000                       0.53   \n",
       "3  7518           8745          56050000                       0.93   \n",
       "4  8037          17449         173040000                       2.26   \n",
       "\n",
       "   morningstar_rating  portfolio_cash  portfolio_stocks  portfolio_bonds  \\\n",
       "0                   3            0.95             99.05             0.00   \n",
       "1                   2            0.00              0.00           100.00   \n",
       "2                   4            1.71              0.00            98.29   \n",
       "3                   3            2.64             31.29            57.06   \n",
       "4                   2            5.24             94.75             0.00   \n",
       "\n",
       "   portfolio_others  portfolio_preferred  ...  category_102  category_103  \\\n",
       "0              0.00                 0.00  ...           0.0           0.0   \n",
       "1              0.00                 0.00  ...           0.0           0.0   \n",
       "2              0.00                 0.00  ...           0.0           0.0   \n",
       "3              0.80                 7.62  ...           0.0           0.0   \n",
       "4              0.01                 0.00  ...           0.0           0.0   \n",
       "\n",
       "   category_104  category_105  category_106  category_107  investment_0  \\\n",
       "0           0.0           0.0           0.0           0.0           0.0   \n",
       "1           0.0           0.0           0.0           0.0           1.0   \n",
       "2           0.0           0.0           0.0           0.0           1.0   \n",
       "3           0.0           0.0           0.0           0.0           1.0   \n",
       "4           0.0           0.0           0.0           0.0           1.0   \n",
       "\n",
       "   investment_1  investment_2  bonds_aaa  \n",
       "0           1.0           0.0       0.00  \n",
       "1           0.0           0.0       0.65  \n",
       "2           0.0           0.0      93.20  \n",
       "3           0.0           0.0       2.64  \n",
       "4           0.0           0.0       0.00  \n",
       "\n",
       "[5 rows x 154 columns]"
      ]
     },
     "execution_count": 2,
     "metadata": {},
     "output_type": "execute_result"
    }
   ],
   "source": [
    "# Code starts here\n",
    "train = pd.read_csv(\"train.csv\")\n",
    "train.head()\n",
    "\n",
    "\n",
    "# Code ends here"
   ]
  },
  {
   "cell_type": "code",
   "execution_count": 3,
   "metadata": {},
   "outputs": [
    {
     "data": {
      "text/plain": [
       "(9518, 154)"
      ]
     },
     "execution_count": 3,
     "metadata": {},
     "output_type": "execute_result"
    }
   ],
   "source": [
    "train.shape"
   ]
  },
  {
   "cell_type": "code",
   "execution_count": 8,
   "metadata": {},
   "outputs": [
    {
     "data": {
      "text/plain": [
       "<bound method NDFrame.describe of       total_net_assets  net_annual_expenses_ratio  morningstar_rating  \\\n",
       "0               211000                       1.90                   3   \n",
       "1             98930000                       1.57                   2   \n",
       "2            440000000                       0.53                   4   \n",
       "3             56050000                       0.93                   3   \n",
       "4            173040000                       2.26                   2   \n",
       "...                ...                        ...                 ...   \n",
       "9513          98070000                       1.25                   5   \n",
       "9514          16380000                       0.87                   0   \n",
       "9515        2610000000                       2.13                   4   \n",
       "9516        5250000000                       1.12                   4   \n",
       "9517         441170000                       1.27                   4   \n",
       "\n",
       "      portfolio_cash  portfolio_stocks  portfolio_bonds  portfolio_others  \\\n",
       "0               0.95             99.05             0.00              0.00   \n",
       "1               0.00              0.00           100.00              0.00   \n",
       "2               1.71              0.00            98.29              0.00   \n",
       "3               2.64             31.29            57.06              0.80   \n",
       "4               5.24             94.75             0.00              0.01   \n",
       "...              ...               ...              ...               ...   \n",
       "9513           17.08             82.55             0.00              0.37   \n",
       "9514            5.08             82.81            12.07              0.01   \n",
       "9515            0.07             99.58             0.00              0.35   \n",
       "9516            8.48              1.57            89.95              0.00   \n",
       "9517            9.42             90.58             0.00              0.00   \n",
       "\n",
       "      portfolio_preferred  portfolio_convertable  sectors_basic_materials  \\\n",
       "0                    0.00                   0.00                     3.00   \n",
       "1                    0.00                   0.00                     0.00   \n",
       "2                    0.00                   0.00                     0.00   \n",
       "3                    7.62                   0.58                     3.07   \n",
       "4                    0.00                   0.00                     9.42   \n",
       "...                   ...                    ...                      ...   \n",
       "9513                 0.00                   0.00                     3.65   \n",
       "9514                 0.01                   0.00                     4.71   \n",
       "9515                 0.00                   0.00                     8.23   \n",
       "9516                 0.00                   0.00                     0.00   \n",
       "9517                 0.00                   0.00                     0.00   \n",
       "\n",
       "      ...  category_102  category_103  category_104  category_105  \\\n",
       "0     ...           0.0           0.0           0.0           0.0   \n",
       "1     ...           0.0           0.0           0.0           0.0   \n",
       "2     ...           0.0           0.0           0.0           0.0   \n",
       "3     ...           0.0           0.0           0.0           0.0   \n",
       "4     ...           0.0           0.0           0.0           0.0   \n",
       "...   ...           ...           ...           ...           ...   \n",
       "9513  ...           0.0           0.0           0.0           0.0   \n",
       "9514  ...           0.0           0.0           0.0           0.0   \n",
       "9515  ...           0.0           0.0           0.0           0.0   \n",
       "9516  ...           0.0           0.0           0.0           0.0   \n",
       "9517  ...           0.0           0.0           0.0           0.0   \n",
       "\n",
       "      category_106  category_107  investment_0  investment_1  investment_2  \\\n",
       "0              0.0           0.0           0.0           1.0           0.0   \n",
       "1              0.0           0.0           1.0           0.0           0.0   \n",
       "2              0.0           0.0           1.0           0.0           0.0   \n",
       "3              0.0           0.0           1.0           0.0           0.0   \n",
       "4              0.0           0.0           1.0           0.0           0.0   \n",
       "...            ...           ...           ...           ...           ...   \n",
       "9513           0.0           0.0           0.0           1.0           0.0   \n",
       "9514           0.0           0.0           1.0           0.0           0.0   \n",
       "9515           0.0           0.0           1.0           0.0           0.0   \n",
       "9516           0.0           0.0           0.0           1.0           0.0   \n",
       "9517           1.0           0.0           0.0           1.0           0.0   \n",
       "\n",
       "      bonds_aaa  \n",
       "0          0.00  \n",
       "1          0.65  \n",
       "2         93.20  \n",
       "3          2.64  \n",
       "4          0.00  \n",
       "...         ...  \n",
       "9513       0.00  \n",
       "9514       0.00  \n",
       "9515       0.00  \n",
       "9516       7.98  \n",
       "9517       0.00  \n",
       "\n",
       "[9518 rows x 152 columns]>"
      ]
     },
     "execution_count": 8,
     "metadata": {},
     "output_type": "execute_result"
    }
   ],
   "source": [
    "train.describe"
   ]
  },
  {
   "cell_type": "code",
   "execution_count": 6,
   "metadata": {},
   "outputs": [],
   "source": [
    "train = train.drop([\"Id\",\"Serial Number\"], axis=1)"
   ]
  },
  {
   "cell_type": "markdown",
   "metadata": {},
   "source": [
    "### Visualize the data\n",
    "\n",
    "- Check for the categorical & continuous features. \n",
    "- Check out the best plots for plotting between categorical target and continuous features and try making some inferences from these plots.\n",
    "- Check for the correlation between the features and do some Hypothesis Testing to see if there is strong association between features.\n",
    "- Clean the data, remove correlated features and apply some data preprocessing techniques"
   ]
  },
  {
   "cell_type": "code",
   "execution_count": 22,
   "metadata": {},
   "outputs": [
    {
     "name": "stdout",
     "output_type": "stream",
     "text": [
      "Return Rating: 3    3138\n",
      "4    2091\n",
      "2    1907\n",
      "0     994\n",
      "5     790\n",
      "1     598\n",
      "Name: morningstar_return_rating, dtype: int64\n",
      "Risk Rating: 3    3057\n",
      "4    2098\n",
      "2    1763\n",
      "0     995\n",
      "5     890\n",
      "1     715\n",
      "Name: morningstar_risk_rating, dtype: int64\n",
      "   return  risk\n",
      "3    3138  3057\n",
      "4    2091  2098\n",
      "2    1907  1763\n",
      "0     994   995\n",
      "5     790   890\n",
      "1     598   715\n",
      "p-value: 0.00032309085443671745\n",
      "Chi Statistics: 23.099539737235563\n",
      "Null Hypothesis is Rejected\n"
     ]
    }
   ],
   "source": [
    "# Code starts here\n",
    "#Critical value \n",
    "critical_value = stats.chi2.ppf(q = 0.95, # Find the critical value for 95% confidence*\n",
    "                      df = 11)   # Df = number of variable categories(in purpose) - 1\n",
    "\n",
    "# Code starts here\n",
    "prob = 0.95\n",
    "return_rating = train[\"morningstar_return_rating\"].value_counts()\n",
    "print(f'Return Rating: {return_rating}')\n",
    "risk_rating = train[\"morningstar_risk_rating\"].value_counts()\n",
    "print(f'Risk Rating: {risk_rating}')\n",
    "observed = pd.concat([return_rating.transpose() ,risk_rating.transpose()] , axis=1 , keys= ['return','risk'])\n",
    "print(observed)\n",
    "\n",
    "chi2 , p, dof, ex = chi2_contingency(observed)\n",
    "print(f'p-value: {p}')\n",
    "print(f'Chi Statistics: {chi2}')\n",
    "# Hypothesis testing\n",
    "if abs(chi2) >= critical_value:\n",
    "    print('Null Hypothesis is Rejected')\n",
    "else:\n",
    "    print('Fail to reject the Null Hypothesis')\n",
    "# Code ends here."
   ]
  },
  {
   "cell_type": "code",
   "execution_count": 23,
   "metadata": {},
   "outputs": [],
   "source": [
    "# Finding correlation\n",
    "correlation = abs(train.corr())"
   ]
  },
  {
   "cell_type": "code",
   "execution_count": 24,
   "metadata": {},
   "outputs": [
    {
     "data": {
      "text/plain": [
       "<matplotlib.axes._subplots.AxesSubplot at 0xce789ec898>"
      ]
     },
     "execution_count": 24,
     "metadata": {},
     "output_type": "execute_result"
    },
    {
     "data": {
      "image/png": "[encoded data removed]",
      "text/plain": [
       "<Figure size 432x288 with 2 Axes>"
      ]
     },
     "metadata": {
      "needs_background": "light"
     },
     "output_type": "display_data"
    }
   ],
   "source": [
    "sns.heatmap(correlation)"
   ]
  },
  {
   "cell_type": "code",
   "execution_count": 26,
   "metadata": {},
   "outputs": [
    {
     "name": "stdout",
     "output_type": "stream",
     "text": [
      "morningstar_rating         morningstar_return_rating    0.964080\n",
      "morningstar_return_rating  morningstar_rating           0.964080\n",
      "portfolio_stocks           portfolio_bonds              0.917010\n",
      "portfolio_bonds            portfolio_stocks             0.917010\n",
      "category_12                portfolio_convertable        0.899705\n",
      "portfolio_convertable      category_12                  0.899705\n",
      "sharpe_ratio_3y            mean_annual_return_3y        0.766910\n",
      "mean_annual_return_3y      sharpe_ratio_3y              0.766910\n",
      "dtype: float64\n"
     ]
    }
   ],
   "source": [
    "us_correlation = correlation.unstack()\n",
    "# Sorting the unstacked corelation values by descending order\n",
    "us_correlation = us_correlation.sort_values(ascending = False)\n",
    "# finding features having correlation > 0.75 and removing them\n",
    "max_correlated = us_correlation[(us_correlation > 0.75) & (us_correlation < 1)]\n",
    "print(max_correlated)"
   ]
  },
  {
   "cell_type": "code",
   "execution_count": 27,
   "metadata": {},
   "outputs": [
    {
     "name": "stdout",
     "output_type": "stream",
     "text": [
      "(9518, 148)\n"
     ]
    }
   ],
   "source": [
    "train.drop(['morningstar_rating','portfolio_stocks','category_12','sharpe_ratio_3y'], axis=1, inplace = True)\n",
    "print(train.shape)"
   ]
  },
  {
   "cell_type": "markdown",
   "metadata": {},
   "source": [
    "### Model building\n",
    "\n",
    "- Separate the features and target.\n",
    "- Now let's come to the actual task, using linear regression, predict the `bonds_aaa`. Use different techniques you have learned to imporove the performance of the model.\n",
    "- Try improving upon the square root of `mean_squared_error` ([Root Mean Squared Error](https://scikit-learn.org/stable/modules/generated/sklearn.metrics.mean_squared_error.html)) using different parameters that give the best score.\n"
   ]
  },
  {
   "cell_type": "code",
   "execution_count": 30,
   "metadata": {},
   "outputs": [],
   "source": [
    "# Code Starts here\n",
    "# independent variable \n",
    "X = train.drop(columns = 'bonds_aaa')\n",
    "\n",
    "# target variable \n",
    "y = train.bonds_aaa\n",
    "# Code ends here"
   ]
  },
  {
   "cell_type": "code",
   "execution_count": 31,
   "metadata": {},
   "outputs": [],
   "source": [
    "# Splitting the data into train and validation data(70:30)\n",
    "X_train, X_test, y_train, y_test = train_test_split(X, y, test_size=0.3, random_state=3)"
   ]
  },
  {
   "cell_type": "markdown",
   "metadata": {},
   "source": [
    "#### Model 1. Linear Regression "
   ]
  },
  {
   "cell_type": "code",
   "execution_count": 46,
   "metadata": {},
   "outputs": [
    {
     "name": "stdout",
     "output_type": "stream",
     "text": [
      "The RMSE score for Linear Regression: 16.05\n"
     ]
    }
   ],
   "source": [
    "# Instantiate linear model\n",
    "lr = LinearRegression()\n",
    "\n",
    "# fit the model on training data\n",
    "lr.fit(X_train,y_train)\n",
    "\n",
    "# predict on test\n",
    "y_pred_lr = lr.predict(X_test)\n",
    "\n",
    "#Calculate rmse\n",
    "rmse_lr = np.sqrt(mean_squared_error(y_test,y_pred_lr))\n",
    "print(f'The RMSE score for Linear Regression: {rmse_lr.round(2)}')"
   ]
  },
  {
   "cell_type": "markdown",
   "metadata": {},
   "source": [
    "#### Model 2. Ridge Regression "
   ]
  },
  {
   "cell_type": "code",
   "execution_count": 34,
   "metadata": {},
   "outputs": [
    {
     "name": "stdout",
     "output_type": "stream",
     "text": [
      "The RMSE score for Ridge Regression: 16.06\n"
     ]
    },
    {
     "name": "stderr",
     "output_type": "stream",
     "text": [
      "E:\\Anaconda3\\envs\\dl\\lib\\site-packages\\sklearn\\linear_model\\_ridge.py:148: LinAlgWarning: Ill-conditioned matrix (rcond=1.35833e-24): result may not be accurate.\n",
      "  overwrite_a=True).T\n"
     ]
    }
   ],
   "source": [
    "# Instantiate ridge model\n",
    "ridge = Ridge()\n",
    "\n",
    "# fit the model on training data\n",
    "ridge.fit(X_train,y_train)\n",
    "\n",
    "# predict on test\n",
    "y_pred_ridge = ridge.predict(X_test)\n",
    "\n",
    "#Calculate rmse\n",
    "rmse_ridge = np.sqrt(mean_squared_error(y_test,y_pred_ridge))\n",
    "print(f'The RMSE score for Ridge Regression: {rmse_ridge.round(2)}')"
   ]
  },
  {
   "cell_type": "markdown",
   "metadata": {},
   "source": [
    "#### Model 2.1. Hypertuned Ridge Regression "
   ]
  },
  {
   "cell_type": "code",
   "execution_count": 35,
   "metadata": {},
   "outputs": [],
   "source": [
    "alphas = [0.01, 0.03, 0.06, 0.1, 0.3, 0.6, 1, 3, 6, 10, 30, 60]\n",
    "params = dict(alpha=alphas)"
   ]
  },
  {
   "cell_type": "code",
   "execution_count": 37,
   "metadata": {},
   "outputs": [
    {
     "name": "stderr",
     "output_type": "stream",
     "text": [
      "E:\\Anaconda3\\envs\\dl\\lib\\site-packages\\sklearn\\linear_model\\_ridge.py:148: LinAlgWarning: Ill-conditioned matrix (rcond=1.60386e-26): result may not be accurate.\n",
      "  overwrite_a=True).T\n",
      "E:\\Anaconda3\\envs\\dl\\lib\\site-packages\\sklearn\\linear_model\\_ridge.py:148: LinAlgWarning: Ill-conditioned matrix (rcond=1.69427e-26): result may not be accurate.\n",
      "  overwrite_a=True).T\n",
      "E:\\Anaconda3\\envs\\dl\\lib\\site-packages\\sklearn\\linear_model\\_ridge.py:148: LinAlgWarning: Ill-conditioned matrix (rcond=1.97784e-26): result may not be accurate.\n",
      "  overwrite_a=True).T\n",
      "E:\\Anaconda3\\envs\\dl\\lib\\site-packages\\sklearn\\linear_model\\_ridge.py:148: LinAlgWarning: Ill-conditioned matrix (rcond=1.5958e-26): result may not be accurate.\n",
      "  overwrite_a=True).T\n",
      "E:\\Anaconda3\\envs\\dl\\lib\\site-packages\\sklearn\\linear_model\\_ridge.py:148: LinAlgWarning: Ill-conditioned matrix (rcond=1.81706e-26): result may not be accurate.\n",
      "  overwrite_a=True).T\n",
      "E:\\Anaconda3\\envs\\dl\\lib\\site-packages\\sklearn\\linear_model\\_ridge.py:148: LinAlgWarning: Ill-conditioned matrix (rcond=4.80917e-26): result may not be accurate.\n",
      "  overwrite_a=True).T\n",
      "E:\\Anaconda3\\envs\\dl\\lib\\site-packages\\sklearn\\linear_model\\_ridge.py:148: LinAlgWarning: Ill-conditioned matrix (rcond=5.08009e-26): result may not be accurate.\n",
      "  overwrite_a=True).T\n",
      "E:\\Anaconda3\\envs\\dl\\lib\\site-packages\\sklearn\\linear_model\\_ridge.py:148: LinAlgWarning: Ill-conditioned matrix (rcond=5.93068e-26): result may not be accurate.\n",
      "  overwrite_a=True).T\n",
      "E:\\Anaconda3\\envs\\dl\\lib\\site-packages\\sklearn\\linear_model\\_ridge.py:148: LinAlgWarning: Ill-conditioned matrix (rcond=4.78506e-26): result may not be accurate.\n",
      "  overwrite_a=True).T\n",
      "E:\\Anaconda3\\envs\\dl\\lib\\site-packages\\sklearn\\linear_model\\_ridge.py:148: LinAlgWarning: Ill-conditioned matrix (rcond=5.4476e-26): result may not be accurate.\n",
      "  overwrite_a=True).T\n",
      "E:\\Anaconda3\\envs\\dl\\lib\\site-packages\\sklearn\\linear_model\\_ridge.py:148: LinAlgWarning: Ill-conditioned matrix (rcond=9.61147e-26): result may not be accurate.\n",
      "  overwrite_a=True).T\n",
      "E:\\Anaconda3\\envs\\dl\\lib\\site-packages\\sklearn\\linear_model\\_ridge.py:148: LinAlgWarning: Ill-conditioned matrix (rcond=1.01529e-25): result may not be accurate.\n",
      "  overwrite_a=True).T\n",
      "E:\\Anaconda3\\envs\\dl\\lib\\site-packages\\sklearn\\linear_model\\_ridge.py:148: LinAlgWarning: Ill-conditioned matrix (rcond=1.18532e-25): result may not be accurate.\n",
      "  overwrite_a=True).T\n",
      "E:\\Anaconda3\\envs\\dl\\lib\\site-packages\\sklearn\\linear_model\\_ridge.py:148: LinAlgWarning: Ill-conditioned matrix (rcond=9.56347e-26): result may not be accurate.\n",
      "  overwrite_a=True).T\n",
      "E:\\Anaconda3\\envs\\dl\\lib\\site-packages\\sklearn\\linear_model\\_ridge.py:148: LinAlgWarning: Ill-conditioned matrix (rcond=1.0885e-25): result may not be accurate.\n",
      "  overwrite_a=True).T\n",
      "E:\\Anaconda3\\envs\\dl\\lib\\site-packages\\sklearn\\linear_model\\_ridge.py:148: LinAlgWarning: Ill-conditioned matrix (rcond=1.60041e-25): result may not be accurate.\n",
      "  overwrite_a=True).T\n",
      "E:\\Anaconda3\\envs\\dl\\lib\\site-packages\\sklearn\\linear_model\\_ridge.py:148: LinAlgWarning: Ill-conditioned matrix (rcond=1.69055e-25): result may not be accurate.\n",
      "  overwrite_a=True).T\n",
      "E:\\Anaconda3\\envs\\dl\\lib\\site-packages\\sklearn\\linear_model\\_ridge.py:148: LinAlgWarning: Ill-conditioned matrix (rcond=1.97373e-25): result may not be accurate.\n",
      "  overwrite_a=True).T\n",
      "E:\\Anaconda3\\envs\\dl\\lib\\site-packages\\sklearn\\linear_model\\_ridge.py:148: LinAlgWarning: Ill-conditioned matrix (rcond=1.59248e-25): result may not be accurate.\n",
      "  overwrite_a=True).T\n",
      "E:\\Anaconda3\\envs\\dl\\lib\\site-packages\\sklearn\\linear_model\\_ridge.py:148: LinAlgWarning: Ill-conditioned matrix (rcond=1.81197e-25): result may not be accurate.\n",
      "  overwrite_a=True).T\n",
      "E:\\Anaconda3\\envs\\dl\\lib\\site-packages\\sklearn\\linear_model\\_ridge.py:148: LinAlgWarning: Ill-conditioned matrix (rcond=4.77946e-25): result may not be accurate.\n",
      "  overwrite_a=True).T\n",
      "E:\\Anaconda3\\envs\\dl\\lib\\site-packages\\sklearn\\linear_model\\_ridge.py:148: LinAlgWarning: Ill-conditioned matrix (rcond=5.04833e-25): result may not be accurate.\n",
      "  overwrite_a=True).T\n",
      "E:\\Anaconda3\\envs\\dl\\lib\\site-packages\\sklearn\\linear_model\\_ridge.py:148: LinAlgWarning: Ill-conditioned matrix (rcond=5.8952e-25): result may not be accurate.\n",
      "  overwrite_a=True).T\n",
      "E:\\Anaconda3\\envs\\dl\\lib\\site-packages\\sklearn\\linear_model\\_ridge.py:148: LinAlgWarning: Ill-conditioned matrix (rcond=4.75669e-25): result may not be accurate.\n",
      "  overwrite_a=True).T\n",
      "E:\\Anaconda3\\envs\\dl\\lib\\site-packages\\sklearn\\linear_model\\_ridge.py:148: LinAlgWarning: Ill-conditioned matrix (rcond=5.40456e-25): result may not be accurate.\n",
      "  overwrite_a=True).T\n",
      "E:\\Anaconda3\\envs\\dl\\lib\\site-packages\\sklearn\\linear_model\\_ridge.py:148: LinAlgWarning: Ill-conditioned matrix (rcond=9.49851e-25): result may not be accurate.\n",
      "  overwrite_a=True).T\n",
      "E:\\Anaconda3\\envs\\dl\\lib\\site-packages\\sklearn\\linear_model\\_ridge.py:148: LinAlgWarning: Ill-conditioned matrix (rcond=1.00321e-24): result may not be accurate.\n",
      "  overwrite_a=True).T\n",
      "E:\\Anaconda3\\envs\\dl\\lib\\site-packages\\sklearn\\linear_model\\_ridge.py:148: LinAlgWarning: Ill-conditioned matrix (rcond=1.17186e-24): result may not be accurate.\n",
      "  overwrite_a=True).T\n",
      "E:\\Anaconda3\\envs\\dl\\lib\\site-packages\\sklearn\\linear_model\\_ridge.py:148: LinAlgWarning: Ill-conditioned matrix (rcond=9.45501e-25): result may not be accurate.\n",
      "  overwrite_a=True).T\n",
      "E:\\Anaconda3\\envs\\dl\\lib\\site-packages\\sklearn\\linear_model\\_ridge.py:148: LinAlgWarning: Ill-conditioned matrix (rcond=1.07229e-24): result may not be accurate.\n",
      "  overwrite_a=True).T\n",
      "E:\\Anaconda3\\envs\\dl\\lib\\site-packages\\sklearn\\linear_model\\_ridge.py:148: LinAlgWarning: Ill-conditioned matrix (rcond=1.57081e-24): result may not be accurate.\n",
      "  overwrite_a=True).T\n",
      "E:\\Anaconda3\\envs\\dl\\lib\\site-packages\\sklearn\\linear_model\\_ridge.py:148: LinAlgWarning: Ill-conditioned matrix (rcond=1.68423e-24): result may not be accurate.\n",
      "  overwrite_a=True).T\n",
      "E:\\Anaconda3\\envs\\dl\\lib\\site-packages\\sklearn\\linear_model\\_ridge.py:148: LinAlgWarning: Ill-conditioned matrix (rcond=1.86119e-24): result may not be accurate.\n",
      "  overwrite_a=True).T\n",
      "E:\\Anaconda3\\envs\\dl\\lib\\site-packages\\sklearn\\linear_model\\_ridge.py:148: LinAlgWarning: Ill-conditioned matrix (rcond=1.54403e-24): result may not be accurate.\n",
      "  overwrite_a=True).T\n",
      "E:\\Anaconda3\\envs\\dl\\lib\\site-packages\\sklearn\\linear_model\\_ridge.py:148: LinAlgWarning: Ill-conditioned matrix (rcond=1.72708e-24): result may not be accurate.\n",
      "  overwrite_a=True).T\n",
      "E:\\Anaconda3\\envs\\dl\\lib\\site-packages\\sklearn\\linear_model\\_ridge.py:148: LinAlgWarning: Ill-conditioned matrix (rcond=3.73356e-24): result may not be accurate.\n",
      "  overwrite_a=True).T\n",
      "E:\\Anaconda3\\envs\\dl\\lib\\site-packages\\sklearn\\linear_model\\_ridge.py:148: LinAlgWarning: Ill-conditioned matrix (rcond=4.03789e-24): result may not be accurate.\n",
      "  overwrite_a=True).T\n",
      "E:\\Anaconda3\\envs\\dl\\lib\\site-packages\\sklearn\\linear_model\\_ridge.py:148: LinAlgWarning: Ill-conditioned matrix (rcond=4.60577e-24): result may not be accurate.\n",
      "  overwrite_a=True).T\n",
      "E:\\Anaconda3\\envs\\dl\\lib\\site-packages\\sklearn\\linear_model\\_ridge.py:148: LinAlgWarning: Ill-conditioned matrix (rcond=3.7377e-24): result may not be accurate.\n",
      "  overwrite_a=True).T\n",
      "E:\\Anaconda3\\envs\\dl\\lib\\site-packages\\sklearn\\linear_model\\_ridge.py:148: LinAlgWarning: Ill-conditioned matrix (rcond=4.09599e-24): result may not be accurate.\n",
      "  overwrite_a=True).T\n",
      "E:\\Anaconda3\\envs\\dl\\lib\\site-packages\\sklearn\\linear_model\\_ridge.py:148: LinAlgWarning: Ill-conditioned matrix (rcond=6.63439e-24): result may not be accurate.\n",
      "  overwrite_a=True).T\n",
      "E:\\Anaconda3\\envs\\dl\\lib\\site-packages\\sklearn\\linear_model\\_ridge.py:148: LinAlgWarning: Ill-conditioned matrix (rcond=7.30519e-24): result may not be accurate.\n",
      "  overwrite_a=True).T\n",
      "E:\\Anaconda3\\envs\\dl\\lib\\site-packages\\sklearn\\linear_model\\_ridge.py:148: LinAlgWarning: Ill-conditioned matrix (rcond=8.34933e-24): result may not be accurate.\n",
      "  overwrite_a=True).T\n",
      "E:\\Anaconda3\\envs\\dl\\lib\\site-packages\\sklearn\\linear_model\\_ridge.py:148: LinAlgWarning: Ill-conditioned matrix (rcond=6.92128e-24): result may not be accurate.\n",
      "  overwrite_a=True).T\n",
      "E:\\Anaconda3\\envs\\dl\\lib\\site-packages\\sklearn\\linear_model\\_ridge.py:148: LinAlgWarning: Ill-conditioned matrix (rcond=7.33524e-24): result may not be accurate.\n",
      "  overwrite_a=True).T\n",
      "E:\\Anaconda3\\envs\\dl\\lib\\site-packages\\sklearn\\linear_model\\_ridge.py:148: LinAlgWarning: Ill-conditioned matrix (rcond=1.06993e-23): result may not be accurate.\n",
      "  overwrite_a=True).T\n"
     ]
    },
    {
     "name": "stderr",
     "output_type": "stream",
     "text": [
      "E:\\Anaconda3\\envs\\dl\\lib\\site-packages\\sklearn\\linear_model\\_ridge.py:148: LinAlgWarning: Ill-conditioned matrix (rcond=1.18352e-23): result may not be accurate.\n",
      "  overwrite_a=True).T\n",
      "E:\\Anaconda3\\envs\\dl\\lib\\site-packages\\sklearn\\linear_model\\_ridge.py:148: LinAlgWarning: Ill-conditioned matrix (rcond=1.35827e-23): result may not be accurate.\n",
      "  overwrite_a=True).T\n",
      "E:\\Anaconda3\\envs\\dl\\lib\\site-packages\\sklearn\\linear_model\\_ridge.py:148: LinAlgWarning: Ill-conditioned matrix (rcond=1.14553e-23): result may not be accurate.\n",
      "  overwrite_a=True).T\n",
      "E:\\Anaconda3\\envs\\dl\\lib\\site-packages\\sklearn\\linear_model\\_ridge.py:148: LinAlgWarning: Ill-conditioned matrix (rcond=1.18851e-23): result may not be accurate.\n",
      "  overwrite_a=True).T\n",
      "E:\\Anaconda3\\envs\\dl\\lib\\site-packages\\sklearn\\linear_model\\_ridge.py:148: LinAlgWarning: Ill-conditioned matrix (rcond=3.41521e-23): result may not be accurate.\n",
      "  overwrite_a=True).T\n",
      "E:\\Anaconda3\\envs\\dl\\lib\\site-packages\\sklearn\\linear_model\\_ridge.py:148: LinAlgWarning: Ill-conditioned matrix (rcond=3.79833e-23): result may not be accurate.\n",
      "  overwrite_a=True).T\n",
      "E:\\Anaconda3\\envs\\dl\\lib\\site-packages\\sklearn\\linear_model\\_ridge.py:148: LinAlgWarning: Ill-conditioned matrix (rcond=4.37805e-23): result may not be accurate.\n",
      "  overwrite_a=True).T\n",
      "E:\\Anaconda3\\envs\\dl\\lib\\site-packages\\sklearn\\linear_model\\_ridge.py:148: LinAlgWarning: Ill-conditioned matrix (rcond=3.72092e-23): result may not be accurate.\n",
      "  overwrite_a=True).T\n",
      "E:\\Anaconda3\\envs\\dl\\lib\\site-packages\\sklearn\\linear_model\\_ridge.py:148: LinAlgWarning: Ill-conditioned matrix (rcond=3.8564e-23): result may not be accurate.\n",
      "  overwrite_a=True).T\n",
      "E:\\Anaconda3\\envs\\dl\\lib\\site-packages\\sklearn\\linear_model\\_ridge.py:148: LinAlgWarning: Ill-conditioned matrix (rcond=7.45759e-23): result may not be accurate.\n",
      "  overwrite_a=True).T\n",
      "E:\\Anaconda3\\envs\\dl\\lib\\site-packages\\sklearn\\linear_model\\_ridge.py:148: LinAlgWarning: Ill-conditioned matrix (rcond=8.43318e-23): result may not be accurate.\n",
      "  overwrite_a=True).T\n"
     ]
    },
    {
     "name": "stdout",
     "output_type": "stream",
     "text": [
      "{'alpha': 1}\n"
     ]
    },
    {
     "name": "stderr",
     "output_type": "stream",
     "text": [
      "E:\\Anaconda3\\envs\\dl\\lib\\site-packages\\sklearn\\linear_model\\_ridge.py:148: LinAlgWarning: Ill-conditioned matrix (rcond=1.00069e-22): result may not be accurate.\n",
      "  overwrite_a=True).T\n",
      "E:\\Anaconda3\\envs\\dl\\lib\\site-packages\\sklearn\\linear_model\\_ridge.py:148: LinAlgWarning: Ill-conditioned matrix (rcond=8.07785e-23): result may not be accurate.\n",
      "  overwrite_a=True).T\n",
      "E:\\Anaconda3\\envs\\dl\\lib\\site-packages\\sklearn\\linear_model\\_ridge.py:148: LinAlgWarning: Ill-conditioned matrix (rcond=8.47559e-23): result may not be accurate.\n",
      "  overwrite_a=True).T\n",
      "E:\\Anaconda3\\envs\\dl\\lib\\site-packages\\sklearn\\linear_model\\_ridge.py:148: LinAlgWarning: Ill-conditioned matrix (rcond=1.35833e-24): result may not be accurate.\n",
      "  overwrite_a=True).T\n"
     ]
    }
   ],
   "source": [
    "# Instantiate ridge model\n",
    "ridge_model = Ridge(random_state=42)\n",
    "\n",
    "# Using GridSearch to find optimal parameters\n",
    "grid_ridge = GridSearchCV(estimator=ridge_model, param_grid=params)\n",
    "grid_ridge.fit(X_train, y_train)\n",
    "print(grid_ridge.best_params_)\n"
   ]
  },
  {
   "cell_type": "code",
   "execution_count": 38,
   "metadata": {},
   "outputs": [
    {
     "name": "stdout",
     "output_type": "stream",
     "text": [
      "The RMSE score for Hypertuned Ridge Regression: 16.06\n"
     ]
    }
   ],
   "source": [
    "# make predictions \n",
    "y_pred_ridge_grid = grid_ridge.predict(X_test)\n",
    "rmse_ridge_grid = np.sqrt(mean_squared_error(y_test,y_pred_ridge_grid))\n",
    "print(f'The RMSE score for Hypertuned Ridge Regression: {rmse_ridge_grid.round(2)}')"
   ]
  },
  {
   "cell_type": "markdown",
   "metadata": {},
   "source": [
    "#### Model 3. Lasso Regression "
   ]
  },
  {
   "cell_type": "code",
   "execution_count": 39,
   "metadata": {},
   "outputs": [
    {
     "name": "stdout",
     "output_type": "stream",
     "text": [
      "The RMSE score for Lasso Regression: 20.04\n"
     ]
    }
   ],
   "source": [
    "# Instantiate Lasso model\n",
    "lasso = Lasso(random_state=42)\n",
    "\n",
    "# fit the model on training data\n",
    "lasso.fit(X_train,y_train)\n",
    "\n",
    "# predict on test\n",
    "y_pred_lasso = lasso.predict(X_test)\n",
    "\n",
    "#Calculate rmse\n",
    "rmse_lasso = np.sqrt(mean_squared_error(y_test,y_pred_lasso))\n",
    "print(f'The RMSE score for Lasso Regression: {rmse_lasso.round(2)}')"
   ]
  },
  {
   "cell_type": "markdown",
   "metadata": {},
   "source": [
    "#### Model 3.1 Hypertuned Lasso Regression "
   ]
  },
  {
   "cell_type": "code",
   "execution_count": 40,
   "metadata": {},
   "outputs": [],
   "source": [
    "alphas_lasso = [0.0001, 0.0003, 0.0006, 0.001, 0.003, 0.006, 0.01, 0.03, 0.06, 0.1, 0.3, 0.6, 1]\n",
    "params_lasso = dict(alpha=alphas_lasso)"
   ]
  },
  {
   "cell_type": "code",
   "execution_count": 41,
   "metadata": {},
   "outputs": [
    {
     "name": "stderr",
     "output_type": "stream",
     "text": [
      "E:\\Anaconda3\\envs\\dl\\lib\\site-packages\\sklearn\\linear_model\\_coordinate_descent.py:531: ConvergenceWarning: Objective did not converge. You might want to increase the number of iterations. Duality gap: 658869.2804388382, tolerance: 307.51487767438925\n",
      "  positive)\n",
      "E:\\Anaconda3\\envs\\dl\\lib\\site-packages\\sklearn\\linear_model\\_coordinate_descent.py:531: ConvergenceWarning: Objective did not converge. You might want to increase the number of iterations. Duality gap: 626384.9049356581, tolerance: 290.8092764488984\n",
      "  positive)\n",
      "E:\\Anaconda3\\envs\\dl\\lib\\site-packages\\sklearn\\linear_model\\_coordinate_descent.py:531: ConvergenceWarning: Objective did not converge. You might want to increase the number of iterations. Duality gap: 639692.249793095, tolerance: 305.0520879554314\n",
      "  positive)\n",
      "E:\\Anaconda3\\envs\\dl\\lib\\site-packages\\sklearn\\linear_model\\_coordinate_descent.py:531: ConvergenceWarning: Objective did not converge. You might want to increase the number of iterations. Duality gap: 620203.5146738756, tolerance: 293.41203408351953\n",
      "  positive)\n",
      "E:\\Anaconda3\\envs\\dl\\lib\\site-packages\\sklearn\\linear_model\\_coordinate_descent.py:531: ConvergenceWarning: Objective did not converge. You might want to increase the number of iterations. Duality gap: 629149.6555167561, tolerance: 305.25062502088\n",
      "  positive)\n",
      "E:\\Anaconda3\\envs\\dl\\lib\\site-packages\\sklearn\\linear_model\\_coordinate_descent.py:531: ConvergenceWarning: Objective did not converge. You might want to increase the number of iterations. Duality gap: 660753.3678188195, tolerance: 307.51487767438925\n",
      "  positive)\n",
      "E:\\Anaconda3\\envs\\dl\\lib\\site-packages\\sklearn\\linear_model\\_coordinate_descent.py:531: ConvergenceWarning: Objective did not converge. You might want to increase the number of iterations. Duality gap: 628408.0692959545, tolerance: 290.8092764488984\n",
      "  positive)\n",
      "E:\\Anaconda3\\envs\\dl\\lib\\site-packages\\sklearn\\linear_model\\_coordinate_descent.py:531: ConvergenceWarning: Objective did not converge. You might want to increase the number of iterations. Duality gap: 641428.0889142717, tolerance: 305.0520879554314\n",
      "  positive)\n",
      "E:\\Anaconda3\\envs\\dl\\lib\\site-packages\\sklearn\\linear_model\\_coordinate_descent.py:531: ConvergenceWarning: Objective did not converge. You might want to increase the number of iterations. Duality gap: 621883.2982139386, tolerance: 293.41203408351953\n",
      "  positive)\n",
      "E:\\Anaconda3\\envs\\dl\\lib\\site-packages\\sklearn\\linear_model\\_coordinate_descent.py:531: ConvergenceWarning: Objective did not converge. You might want to increase the number of iterations. Duality gap: 630941.2538270681, tolerance: 305.25062502088\n",
      "  positive)\n",
      "E:\\Anaconda3\\envs\\dl\\lib\\site-packages\\sklearn\\linear_model\\_coordinate_descent.py:531: ConvergenceWarning: Objective did not converge. You might want to increase the number of iterations. Duality gap: 663002.3410037376, tolerance: 307.51487767438925\n",
      "  positive)\n",
      "E:\\Anaconda3\\envs\\dl\\lib\\site-packages\\sklearn\\linear_model\\_coordinate_descent.py:531: ConvergenceWarning: Objective did not converge. You might want to increase the number of iterations. Duality gap: 630690.0907557316, tolerance: 290.8092764488984\n",
      "  positive)\n",
      "E:\\Anaconda3\\envs\\dl\\lib\\site-packages\\sklearn\\linear_model\\_coordinate_descent.py:531: ConvergenceWarning: Objective did not converge. You might want to increase the number of iterations. Duality gap: 643515.0983056236, tolerance: 305.0520879554314\n",
      "  positive)\n",
      "E:\\Anaconda3\\envs\\dl\\lib\\site-packages\\sklearn\\linear_model\\_coordinate_descent.py:531: ConvergenceWarning: Objective did not converge. You might want to increase the number of iterations. Duality gap: 623168.8119457808, tolerance: 293.41203408351953\n",
      "  positive)\n",
      "E:\\Anaconda3\\envs\\dl\\lib\\site-packages\\sklearn\\linear_model\\_coordinate_descent.py:531: ConvergenceWarning: Objective did not converge. You might want to increase the number of iterations. Duality gap: 633086.4737837019, tolerance: 305.25062502088\n",
      "  positive)\n",
      "E:\\Anaconda3\\envs\\dl\\lib\\site-packages\\sklearn\\linear_model\\_coordinate_descent.py:531: ConvergenceWarning: Objective did not converge. You might want to increase the number of iterations. Duality gap: 665524.0322210316, tolerance: 307.51487767438925\n",
      "  positive)\n",
      "E:\\Anaconda3\\envs\\dl\\lib\\site-packages\\sklearn\\linear_model\\_coordinate_descent.py:531: ConvergenceWarning: Objective did not converge. You might want to increase the number of iterations. Duality gap: 644477.7030340367, tolerance: 305.0520879554314\n",
      "  positive)\n",
      "E:\\Anaconda3\\envs\\dl\\lib\\site-packages\\sklearn\\linear_model\\_coordinate_descent.py:531: ConvergenceWarning: Objective did not converge. You might want to increase the number of iterations. Duality gap: 406548.65080469125, tolerance: 293.41203408351953\n",
      "  positive)\n"
     ]
    },
    {
     "name": "stdout",
     "output_type": "stream",
     "text": [
      "{'alpha': 0.006}\n"
     ]
    }
   ],
   "source": [
    "# Instantiate lasso model\n",
    "lasso_model = Lasso(random_state=42)\n",
    "\n",
    "# Using GridSearch to find optimal parameters\n",
    "grid_lasso = GridSearchCV(estimator=lasso_model, param_grid=params_lasso)\n",
    "grid_lasso.fit(X_train, y_train)\n",
    "print(grid_lasso.best_params_)\n"
   ]
  },
  {
   "cell_type": "code",
   "execution_count": 42,
   "metadata": {},
   "outputs": [
    {
     "name": "stdout",
     "output_type": "stream",
     "text": [
      "The RMSE score for Hypertuned lasso Regression: 16.07\n"
     ]
    }
   ],
   "source": [
    "# make predictions \n",
    "y_pred_lasso_grid = grid_lasso.predict(X_test)\n",
    "rmse_lasso_grid = np.sqrt(mean_squared_error(y_test,y_pred_lasso_grid))\n",
    "print(f'The RMSE score for Hypertuned lasso Regression: {rmse_lasso_grid.round(2)}')"
   ]
  },
  {
   "cell_type": "code",
   "execution_count": 48,
   "metadata": {},
   "outputs": [
    {
     "name": "stdout",
     "output_type": "stream",
     "text": [
      "+-------+-----------------------------+------------+\n",
      "| S.NO. |            MODEL            | rmse-Score |\n",
      "+-------+-----------------------------+------------+\n",
      "|   1   |      Linear Regression      |   16.05    |\n",
      "|   2   |       Ridge Regression      |   16.06    |\n",
      "|   3   | Hypertuned Ridge Regression |   16.06    |\n",
      "|   4   |       Lasso Regression      |   20.04    |\n",
      "|   5   | Hypertuned Lasso Regression |   16.07    |\n",
      "+-------+-----------------------------+------------+\n"
     ]
    }
   ],
   "source": [
    "# Creating table using PrettyTable library\n",
    "from prettytable import PrettyTable\n",
    "\n",
    "names = [\"Linear Regression\", \"Ridge Regression\", \"Hypertuned Ridge Regression\", \\\n",
    "        \"Lasso Regression\", \"Hypertuned Lasso Regression\"]\n",
    "\n",
    "\n",
    "rmse_score = [\"%0.2f\"%rmse_lr,\"%0.2f\"% rmse_ridge,\"%0.2f\"% rmse_ridge_grid,\"%0.2f\"% rmse_lasso,\"%0.2f\"% rmse_lasso_grid]\n",
    "\n",
    "numbering = [1,2,3,4,5]\n",
    "\n",
    "# Initializing prettytable\n",
    "ptable = PrettyTable()\n",
    "\n",
    "# Adding columns\n",
    "ptable.add_column(\"S.NO.\",numbering)\n",
    "ptable.add_column(\"MODEL\",names)\n",
    "ptable.add_column(\"rmse-Score\",rmse_score)\n",
    "\n",
    "# Printing the Table\n",
    "print(ptable)"
   ]
  },
  {
   "cell_type": "markdown",
   "metadata": {},
   "source": [
    "##### Observation: From above table, we find that Linear Regression has the lowest RMSE score, hence we use the Linear Model as our final model for prediction on test data."
   ]
  },
  {
   "cell_type": "markdown",
   "metadata": {},
   "source": [
    "### Prediction on the test data and creating the sample submission file.\n",
    "\n",
    "- Load the test data and store the `Id` column in a separate variable.\n",
    "- Perform the same operations on the test data that you have performed on the train data.\n",
    "- Create the submission file as a `csv` file consisting of the `Id` column from the test data and your prediction as the second column."
   ]
  },
  {
   "cell_type": "code",
   "execution_count": 49,
   "metadata": {},
   "outputs": [],
   "source": [
    "# Code Starts here\n",
    "test=pd.read_csv(\"test.csv\")\n",
    "Id=test[\"Id\"]\n",
    "test.drop([\"Id\",\"Serial Number\",\"morningstar_rating\",'portfolio_stocks','category_12','sharpe_ratio_3y'], axis = 1, inplace=True)\n",
    "\n",
    "y_pred = lr.predict(test)\n",
    "y_pred\n",
    "\n",
    "sample_submission = pd.DataFrame({'Id':Id,'bonds_aaa':y_pred})\n",
    "\n",
    "# Convert the sample submission file into a csv file\n",
    "sample_submission.to_csv('1st_submission_lr.csv',index=False)\n",
    "\n",
    "\n",
    "# Code ends here"
   ]
  },
  {
   "cell_type": "code",
   "execution_count": null,
   "metadata": {},
   "outputs": [],
   "source": []
  }
 ],
 "metadata": {
  "kernelspec": {
   "display_name": "Python 3",
   "language": "python",
   "name": "python3"
  },
  "language_info": {
   "codemirror_mode": {
    "name": "ipython",
    "version": 3
   },
   "file_extension": ".py",
   "mimetype": "text/x-python",
   "name": "python",
   "nbconvert_exporter": "python",
   "pygments_lexer": "ipython3",
   "version": "3.6.7"
  }
 },
 "nbformat": 4,
 "nbformat_minor": 2
}
